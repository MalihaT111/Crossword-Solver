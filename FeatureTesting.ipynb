{
 "cells": [
  {
   "cell_type": "code",
   "execution_count": 27,
   "metadata": {},
   "outputs": [
    {
     "name": "stdout",
     "output_type": "stream",
     "text": [
      "200\n"
     ]
    }
   ],
   "source": [
    "import requests\n",
    "import matplotlib.pyplot as plt\n",
    "import numpy as np\n",
    "import io\n",
    "\n",
    "# Set the URL of the server\n",
    "url = \"http://127.0.0.1:5000\"\n",
    "\n",
    "# Path to the image file on your local disk\n",
    "image_path = \"Testing/crosswordE.jpg\"  # Change as needed\n",
    "\n",
    "# Open the image file in binary mode\n",
    "with open(image_path, \"rb\") as image_file:\n",
    "    # Prepare the files parameter with the image file\n",
    "    files = {\"image\": image_file}\n",
    "    \n",
    "    # Send the POST request with body and files\n",
    "    res = requests.post(url, files=files)\n",
    "\n",
    "# Check the response\n",
    "if res.status_code == 200:\n",
    "    response_data = res.json()\n",
    "    original_image_hex = response_data['original_image']\n",
    "    transformed_image_hex = response_data['transformed_image']\n",
    "    box1_across_hex = response_data['box1_across']\n",
    "    box2_down_hex = response_data['box2_down']\n",
    "    box3_matrix_hex = response_data['box3_matrix']\n",
    "    # box3_2d_matrix_hex = response_data['box3_2d_matrix']\n",
    "\n",
    "    # Convert hex to bytes\n",
    "    original_image_bytes = bytes.fromhex(original_image_hex)\n",
    "    transformed_image_bytes = bytes.fromhex(transformed_image_hex)\n",
    "    box1_across_bytes = bytes.fromhex(box1_across_hex)\n",
    "    box2_down_bytes = bytes.fromhex(box2_down_hex)\n",
    "    box3_matrix_bytes = bytes.fromhex(box3_matrix_hex)\n",
    "\n",
    "\n",
    "    print(res.status_code)\n",
    "else:\n",
    "    if res.status_code != 200:\n",
    "        print(f\"Error: {res.status_code} - {res.text}\")"
   ]
  },
  {
   "cell_type": "code",
   "execution_count": null,
   "metadata": {},
   "outputs": [],
   "source": []
  }
 ],
 "metadata": {
  "kernelspec": {
   "display_name": "Python 3",
   "language": "python",
   "name": "python3"
  },
  "language_info": {
   "codemirror_mode": {
    "name": "ipython",
    "version": 3
   },
   "file_extension": ".py",
   "mimetype": "text/x-python",
   "name": "python",
   "nbconvert_exporter": "python",
   "pygments_lexer": "ipython3",
   "version": "3.12.4"
  }
 },
 "nbformat": 4,
 "nbformat_minor": 2
}
