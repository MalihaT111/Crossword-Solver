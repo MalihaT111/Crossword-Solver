{
 "cells": [
  {
   "cell_type": "code",
   "execution_count": 1,
   "metadata": {},
   "outputs": [
    {
     "name": "stdout",
     "output_type": "stream",
     "text": [
      "/home/arora/Crossword-Solver\n"
     ]
    }
   ],
   "source": [
    "import os\n",
    "print(os.getcwd())"
   ]
  },
  {
   "cell_type": "code",
   "execution_count": 2,
   "metadata": {},
   "outputs": [
    {
     "name": "stdout",
     "output_type": "stream",
     "text": [
      "200\n"
     ]
    }
   ],
   "source": [
    "import requests\n",
    "\n",
    "# Set the URL of the server\n",
    "url = \"http://127.0.0.1:5000\"\n",
    "\n",
    "# Path to the image file on your local disk\n",
    "image_path = \"/home/arora/Crossword-Solver/mtflasktut/images/meow.png\"\n",
    "\n",
    "# Open the image file in binary mode\n",
    "with open(image_path, \"rb\") as image_file:\n",
    "    # Prepare the files parameter with the image file\n",
    "    files = {\"image\": image_file}\n",
    "    \n",
    "    # Send the POST request with body and files\n",
    "    res = requests.post(url, files= files)\n",
    "    \n",
    "# Check the response\n",
    "print(res.status_code)"
   ]
  },
  {
   "cell_type": "code",
   "execution_count": 21,
   "metadata": {},
   "outputs": [],
   "source": [
    "import requests\n",
    "\n",
    "# Set the URL of the server\n",
    "url = \"http://127.0.0.1:5000\"\n",
    "\n",
    "# Path to the image file on your local disk\n",
    "image_path = \"/home/arora/Crossword-Solver/mtflasktut/images/meow.png\"\n",
    "\n",
    "# Open the image file in binary mode\n",
    "with open(image_path, \"rb\") as image_file:\n",
    "    # Prepare the files parameter with the image file\n",
    "    files = {\"image\": image_file}\n",
    "    \n",
    "    # Send the POST request with body and files\n",
    "    res = requests.post(url, files= files)\n",
    "    \n",
    "# Check the response\n",
    "# print(res.text) # assuming the response in in JSON format"
   ]
  },
  {
   "cell_type": "code",
   "execution_count": 18,
   "metadata": {},
   "outputs": [
    {
     "name": "stdout",
     "output_type": "stream",
     "text": [
      "200\n"
     ]
    }
   ],
   "source": [
    "import requests\n",
    "import matplotlib.pyplot as plt\n",
    "import cv2\n",
    "\n",
    "# Set the URL of the server\n",
    "url = \"http://127.0.0.1:5000\"  # Make sure this matches your Flask app's URL\n",
    "\n",
    "# Path to the image file on your local disk\n",
    "image_path = \"/home/arora/Crossword-Solver/Testing/crosswordE.jpg\"\n",
    "\n",
    "# Load the original image using OpenCV (to display it)\n",
    "original_image = cv2.imread(image_path)\n",
    "# Convert the image from BGR to RGB (OpenCV uses BGR by default)\n",
    "original_image = cv2.cvtColor(original_image, cv2.COLOR_BGR2RGB)\n",
    "\n",
    "# Open the image file in binary mode and send the POST request\n",
    "with open(image_path, \"rb\") as image_file:\n",
    "    files = {\"image\": image_file}\n",
    "    res = requests.post(url, files=files)\n",
    "\n",
    "# Check the response\n",
    "print(res.status_code)\n",
    "# print(res.text)  # Assuming the response is in JSON format\n",
    "\n",
    "# # Display the original image\n",
    "# plt.figure(figsize=(10, 5))\n",
    "# plt.subplot(1, 2, 1)\n",
    "# plt.title(\"Original Image\")\n",
    "# plt.imshow(original_image)\n",
    "# plt.axis('off')  # Hide axes\n",
    "\n",
    "# # Assuming you have a way to get the transformed image\n",
    "# # For now, we'll just show the original image again in the transformed section\n",
    "# plt.subplot(1, 2, 2)\n",
    "# plt.title(\"Transformed Image\")\n",
    "# plt.imshow(original_image)  # Change this to the transformed image when available\n",
    "# plt.axis('off')  # Hide axes\n",
    "\n",
    "# plt.show()"
   ]
  },
  {
   "cell_type": "code",
   "execution_count": 20,
   "metadata": {},
   "outputs": [
    {
     "name": "stdout",
     "output_type": "stream",
     "text": [
      "200\n"
     ]
    }
   ],
   "source": [
    "import requests\n",
    "import matplotlib.pyplot as plt\n",
    "import numpy as np\n",
    "import io\n",
    "\n",
    "# Set the URL of the server\n",
    "url = \"http://127.0.0.1:5000\"\n",
    "\n",
    "# Path to the image file on your local disk\n",
    "image_path = \"/home/arora/Crossword-Solver/Testing/crosswordE.jpg\"  # Change as needed\n",
    "\n",
    "# Open the image file in binary mode\n",
    "with open(image_path, \"rb\") as image_file:\n",
    "    # Prepare the files parameter with the image file\n",
    "    files = {\"image\": image_file}\n",
    "    \n",
    "    # Send the POST request with body and files\n",
    "    res = requests.post(url, files=files)\n",
    "\n",
    "# Check the response\n",
    "if res.status_code == 200:\n",
    "    # response_data = res.json()\n",
    "    # original_image_hex = response_data['original_image']\n",
    "    # transformed_image_hex = response_data['transformed_image']\n",
    "\n",
    "    # # Convert hex to bytes\n",
    "    # original_image_bytes = bytes.fromhex(original_image_hex)\n",
    "    # transformed_image_bytes = bytes.fromhex(transformed_image_hex)\n",
    "\n",
    "    # # Display original image\n",
    "    # original_image = plt.imread(io.BytesIO(original_image_bytes), format='png')\n",
    "    # plt.subplot(121), plt.imshow(original_image)\n",
    "    # plt.title('Detected Corners')\n",
    "    \n",
    "    # # Display transformed image\n",
    "    # transformed_image = plt.imread(io.BytesIO(transformed_image_bytes), format='png')\n",
    "    # plt.subplot(122), plt.imshow(transformed_image)\n",
    "    # plt.title('Transformed (Flattened) Crossword')\n",
    "    \n",
    "    # plt.show()\n",
    "    print(res.status_code)\n",
    "else:\n",
    "    print(f\"Error: {res.status_code} - {res.text}\")"
   ]
  }
 ],
 "metadata": {
  "kernelspec": {
   "display_name": "Python 3",
   "language": "python",
   "name": "python3"
  },
  "language_info": {
   "codemirror_mode": {
    "name": "ipython",
    "version": 3
   },
   "file_extension": ".py",
   "mimetype": "text/x-python",
   "name": "python",
   "nbconvert_exporter": "python",
   "pygments_lexer": "ipython3",
   "version": "3.12.3"
  }
 },
 "nbformat": 4,
 "nbformat_minor": 2
}
