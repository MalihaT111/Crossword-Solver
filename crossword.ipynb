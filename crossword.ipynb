{
 "cells": [
  {
   "cell_type": "code",
   "execution_count": 5,
   "metadata": {},
   "outputs": [
    {
     "name": "stdout",
     "output_type": "stream",
     "text": [
      "200\n",
      "[\n",
      "  [\n",
      "    \"C\",\n",
      "    \"A\",\n",
      "    \"T\",\n",
      "    \".\",\n",
      "    \".\",\n",
      "    \".\"\n",
      "  ],\n",
      "  [\n",
      "    \".\",\n",
      "    \".\",\n",
      "    \"O\",\n",
      "    \".\",\n",
      "    \".\",\n",
      "    \".\"\n",
      "  ],\n",
      "  [\n",
      "    \".\",\n",
      "    \"H\",\n",
      "    \"A\",\n",
      "    \"T\",\n",
      "    \".\",\n",
      "    \".\"\n",
      "  ],\n",
      "  [\n",
      "    \"P\",\n",
      "    \"E\",\n",
      "    \"N\",\n",
      "    \"C\",\n",
      "    \"I\",\n",
      "    \"L\"\n",
      "  ]\n",
      "]\n",
      "\n"
     ]
    }
   ],
   "source": [
    "import requests\n",
    "\n",
    "# Set the URL of the server\n",
    "url = \"http://127.0.0.1:5000\"\n",
    "\n",
    "# Path to the image file on your local disk\n",
    "image_path = \"meow.png\"\n",
    "\n",
    "# Prepare the body data if you have any additional fields to send in the request\n",
    "\n",
    "# Open the image file in binary mode\n",
    "with open(image_path, \"rb\") as image_file:\n",
    "    # Prepare the files parameter with the image file\n",
    "    files = {\"image\": image_file}\n",
    "    \n",
    "    # Send the POST request with body and files\n",
    "    res = requests.post(url, files=files)\n",
    "\n",
    "# Check the response\n",
    "print(res.status_code)\n",
    "print(res.text)  # Assuming the response is in JSON format\n",
    "\n"
   ]
  }
 ],
 "metadata": {
  "kernelspec": {
   "display_name": ".venv",
   "language": "python",
   "name": "python3"
  },
  "language_info": {
   "codemirror_mode": {
    "name": "ipython",
    "version": 3
   },
   "file_extension": ".py",
   "mimetype": "text/x-python",
   "name": "python",
   "nbconvert_exporter": "python",
   "pygments_lexer": "ipython3",
   "version": "3.9.12"
  }
 },
 "nbformat": 4,
 "nbformat_minor": 2
}
